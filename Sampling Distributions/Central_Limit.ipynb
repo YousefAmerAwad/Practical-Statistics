{
 "cells": [
  {
   "cell_type": "markdown",
   "metadata": {},
   "source": [
    "# Central Limit Theorem \n",
    "\n",
    "Work through the questions and use the created variables to answer the questions that follow below the notebook.\n",
    "\n",
    "Run the below cell to get started."
   ]
  },
  {
   "cell_type": "code",
   "execution_count": 31,
   "metadata": {},
   "outputs": [
    {
     "data": {
      "image/png": "[encoded data removed]",
      "text/plain": [
       "<Figure size 432x288 with 1 Axes>"
      ]
     },
     "metadata": {
      "needs_background": "light"
     },
     "output_type": "display_data"
    }
   ],
   "source": [
    "import numpy as np\n",
    "import matplotlib.pyplot as plt\n",
    "\n",
    "%matplotlib inline\n",
    "np.random.seed(42)\n",
    "\n",
    "pop_data = np.random.gamma(1,100,3000)\n",
    "plt.hist(pop_data);"
   ]
  },
  {
   "cell_type": "markdown",
   "metadata": {},
   "source": [
    "`1.` In order to create the sampling distribution for the average of 3 draws of this distribution, follow these steps:\n",
    "\n",
    "&emsp;`a.` Use numpy's **random.choice** to simulate 3 draws from the `pop_data` array.   <br><br>\n",
    "&emsp;`b.` Compute the mean of these 3 draws. <br><br>\n",
    "&emsp;`c.` Write a loop to simulate this process 10,000 times, and store each mean into an array called **means_size_3**.<br><br>\n",
    "&emsp;`d.` Plot a histogram of your sample means.<br><br>\n",
    "&emsp;`e.` Use **means_size_3** and **pop_data** to answer the quiz questions below."
   ]
  },
  {
   "cell_type": "code",
   "execution_count": 32,
   "metadata": {},
   "outputs": [
    {
     "data": {
      "image/png": "[encoded data removed]",
      "text/plain": [
       "<Figure size 432x288 with 1 Axes>"
      ]
     },
     "metadata": {
      "needs_background": "light"
     },
     "output_type": "display_data"
    }
   ],
   "source": [
    "means_size_3=[]\n",
    "for i in range(10000):\n",
    "    sample = np.random.choice(pop_data,3)\n",
    "    means_size_3.append(sample.mean())\n",
    "plt.hist(means_size_3);\n"
   ]
  },
  {
   "cell_type": "markdown",
   "metadata": {},
   "source": [
    "`2.` In order to create the sampling distribution for the average of 100 draws of this distribution, follow these steps:\n",
    "\n",
    "&emsp;`a.` Use numpy's **random.choice** to simulate 100 draws from the `pop_data` array.   <br><br>\n",
    "&emsp;`b.` Compute the mean of these 100 draws. <br><br>\n",
    "&emsp;`c.` Write a loop to simulate this process 10,000 times, and store each mean into an array called **means_size_100**.<br><br>\n",
    "&emsp;`d.` Plot a histogram of your sample means.<br><br>\n",
    "&emsp;`e.` Use **means_size_100** and **pop_data** to answer the quiz questions below."
   ]
  },
  {
   "cell_type": "code",
   "execution_count": 33,
   "metadata": {},
   "outputs": [
    {
     "data": {
      "image/png": "[encoded data removed]",
      "text/plain": [
       "<Figure size 432x288 with 1 Axes>"
      ]
     },
     "metadata": {
      "needs_background": "light"
     },
     "output_type": "display_data"
    }
   ],
   "source": [
    "means_size_100=[]\n",
    "for i in range(10000):\n",
    "    sample = np.random.choice(pop_data,100)\n",
    "    means_size_100.append(sample.mean())\n",
    "plt.hist(means_size_100);\n"
   ]
  },
  {
   "cell_type": "markdown",
   "metadata": {},
   "source": [
    "<br>\n",
    "<br>\n",
    "\n",
    "# Central Limit Theorem - Part II\n",
    "\n",
    "You saw how the **Central Limit Theorem** worked for the sample mean in the earlier concept.  However, let's consider another example to see a case where the **Central Limit Theorem** doesn't work...\n",
    "\n",
    "Work through the questions and use the created variables to answer the questions that follow below the notebook.\n",
    "\n",
    "Run the below cell to get started."
   ]
  },
  {
   "cell_type": "markdown",
   "metadata": {},
   "source": [
    "`1.` In order to create the sampling distribution for the variance of 100 draws of this distribution, follow these steps:\n",
    "\n",
    "`a.` Use numpy's **random.choice** to simulate 100 draws from the `pop_data` array.   <br><br>\n",
    "`b.` Compute the variance of these 100 draws. <br><br>\n",
    "`c.` Write a loop to simulate this process 10,000 times, and store each variance into an array called **var_size_100**.<br><br>\n",
    "`d.` Plot a histogram of your sample variances.<br><br>\n",
    "`e.` Use **var_size_100** and **pop_data** to answer the quiz questions below. "
   ]
  },
  {
   "cell_type": "code",
   "execution_count": 34,
   "metadata": {},
   "outputs": [
    {
     "data": {
      "image/png": "[encoded data removed]",
      "text/plain": [
       "<Figure size 432x288 with 1 Axes>"
      ]
     },
     "metadata": {
      "needs_background": "light"
     },
     "output_type": "display_data"
    }
   ],
   "source": [
    "vars_size_100=[]\n",
    "for i in range(10000):\n",
    "    sample = np.random.choice(pop_data,100)\n",
    "    vars_size_100.append(sample.var())\n",
    "plt.hist(vars_size_100);\n"
   ]
  },
  {
   "cell_type": "code",
   "execution_count": 35,
   "metadata": {},
   "outputs": [
    {
     "data": {
      "text/plain": [
       "(9955.76939306549, 6355271.9325389415)"
      ]
     },
     "execution_count": 35,
     "metadata": {},
     "output_type": "execute_result"
    }
   ],
   "source": [
    "\n",
    "pop_data.var() , np.var(vars_size_100)\n"
   ]
  },
  {
   "cell_type": "code",
   "execution_count": 36,
   "metadata": {},
   "outputs": [
    {
     "data": {
      "text/plain": [
       "(100.35978700795846, 9820.378117681856)"
      ]
     },
     "execution_count": 36,
     "metadata": {},
     "output_type": "execute_result"
    }
   ],
   "source": [
    "pop_data.mean() , np.mean(vars_size_100)\n"
   ]
  },
  {
   "cell_type": "markdown",
   "metadata": {},
   "source": [
    "Sample variances are actually known to follow a different type of mathematical distribution known as a chi-squared distribution.  Which is a more right-skewed distribution than a normal."
   ]
  }
 ],
 "metadata": {
  "kernelspec": {
   "display_name": "Python 3.10.5 64-bit",
   "language": "python",
   "name": "python3"
  },
  "language_info": {
   "codemirror_mode": {
    "name": "ipython",
    "version": 3
   },
   "file_extension": ".py",
   "mimetype": "text/x-python",
   "name": "python",
   "nbconvert_exporter": "python",
   "pygments_lexer": "ipython3",
   "version": "3.10.5"
  },
  "orig_nbformat": 4,
  "vscode": {
   "interpreter": {
    "hash": "82a9f30eca97479f9e0bcdf34e094686812eb001ef56033a9a73323e1120c6ad"
   }
  }
 },
 "nbformat": 4,
 "nbformat_minor": 2
}
